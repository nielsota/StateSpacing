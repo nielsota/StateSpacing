{
 "cells": [
  {
   "cell_type": "code",
   "execution_count": 1,
   "id": "6c58cd55",
   "metadata": {},
   "outputs": [],
   "source": [
    "import Cython\n",
    "import cython\n",
    "import scipy\n",
    "import pandas as pd\n",
    "import numpy as np\n",
    "\n",
    "%load_ext cython"
   ]
  },
  {
   "cell_type": "markdown",
   "id": "3f5d8a3d",
   "metadata": {},
   "source": [
    "For this test, an array is passed to the function. The question is whether we can assign a vector in a, to another vector, a_temp and afterwards update a by only updating a_temp?"
   ]
  },
  {
   "cell_type": "code",
   "execution_count": 16,
   "id": "b103e04c",
   "metadata": {},
   "outputs": [],
   "source": [
    "%%cython\n",
    "\n",
    "cimport numpy as np\n",
    "import numpy as np\n",
    "import cython\n",
    "from scipy.linalg.cython_blas cimport dgemm, ddot, dgemv, daxpy, dcopy\n",
    "from libcpp cimport bool\n",
    "\n",
    "@cython.boundscheck(False)\n",
    "@cython.wraparound(False)\n",
    "cpdef double[::1, :] c_kalman_filter(double[::1, :] a):\n",
    "    \n",
    "    # testing, when assigning atemp to a, and adding 1 to a temp, will a be 1,2,3...?\n",
    "    \n",
    "    cdef double[::1] a_temp = np.ones((2), order='f')\n",
    "    print(a_temp.shape)\n",
    "    print(a[:, 2].shape)\n",
    "    \n",
    "    cdef int n = 1000\n",
    "    cdef int i \n",
    "\n",
    "    for i in range(n):\n",
    "        \n",
    "        # a[i,:], which is c contigious, is assigned a pointer to a_temp, which is fortran contigious\n",
    "        a[:, i] = a_temp\n",
    "        \n",
    "        a_temp = a_temp + np.ones((2), order='f')\n",
    "        \n",
    "    return a"
   ]
  },
  {
   "cell_type": "code",
   "execution_count": 17,
   "id": "968dcc17",
   "metadata": {},
   "outputs": [
    {
     "name": "stdout",
     "output_type": "stream",
     "text": [
      "[2, 0, 0, 0, 0, 0, 0, 0]\n",
      "[2, 0, 0, 0, 0, 0, 0, 0]\n"
     ]
    }
   ],
   "source": [
    "a = np.zeros((2,1000), order='f')\n",
    "a = c_kalman_filter(a)"
   ]
  },
  {
   "cell_type": "code",
   "execution_count": 19,
   "id": "012e1b2b",
   "metadata": {},
   "outputs": [
    {
     "data": {
      "text/plain": [
       "array([[   1.,    2.,    3., ...,  998.,  999., 1000.],\n",
       "       [   1.,    2.,    3., ...,  998.,  999., 1000.]])"
      ]
     },
     "execution_count": 19,
     "metadata": {},
     "output_type": "execute_result"
    }
   ],
   "source": [
    "np.array(a)"
   ]
  },
  {
   "cell_type": "code",
   "execution_count": 7,
   "id": "25a6bf10",
   "metadata": {},
   "outputs": [
    {
     "name": "stdout",
     "output_type": "stream",
     "text": [
      "(2, 1000)\n"
     ]
    }
   ],
   "source": [
    "print(a.shape)"
   ]
  },
  {
   "cell_type": "code",
   "execution_count": null,
   "id": "f5ff2b42",
   "metadata": {},
   "outputs": [],
   "source": [
    "# solution -> have dummy variables of all the state matrices and filters in f form. No need now for slicing.  "
   ]
  }
 ],
 "metadata": {
  "kernelspec": {
   "display_name": "Python 3 (ipykernel)",
   "language": "python",
   "name": "python3"
  },
  "language_info": {
   "codemirror_mode": {
    "name": "ipython",
    "version": 3
   },
   "file_extension": ".py",
   "mimetype": "text/x-python",
   "name": "python",
   "nbconvert_exporter": "python",
   "pygments_lexer": "ipython3",
   "version": "3.8.8"
  }
 },
 "nbformat": 4,
 "nbformat_minor": 5
}
