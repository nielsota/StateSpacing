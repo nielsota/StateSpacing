{
 "cells": [
  {
   "cell_type": "code",
   "execution_count": 1,
   "id": "f6c84545",
   "metadata": {},
   "outputs": [],
   "source": [
    "import torch\n",
    "import pathlib\n",
    "\n",
    "from typing import List, Optional, Dict\n",
    "from torch.autograd import Variable\n",
    "\n",
    "import pandas as pd\n",
    "import numpy as np\n",
    "import matplotlib.pyplot as plt"
   ]
  },
  {
   "cell_type": "code",
   "execution_count": 2,
   "id": "223c23a8",
   "metadata": {},
   "outputs": [
    {
     "data": {
      "text/plain": [
       "Text(0.5, 1.0, 'Nile Data')"
      ]
     },
     "execution_count": 2,
     "metadata": {},
     "output_type": "execute_result"
    },
    {
     "data": {
      "image/png": "[encoded data removed]",
      "text/plain": [
       "<Figure size 432x288 with 1 Axes>"
      ]
     },
     "metadata": {
      "needs_background": "light"
     },
     "output_type": "display_data"
    }
   ],
   "source": [
    "base_dir = pathlib.Path().resolve().parent\n",
    "data_dir = base_dir / 'data'\n",
    "nile_path = data_dir / 'Nile.txt'\n",
    "\n",
    "nile_dates = pd.read_csv(nile_path).index\n",
    "nile_data = pd.read_csv(nile_path).values\n",
    "\n",
    "fig, ax = plt.subplots()\n",
    "ax.plot(range(1871, 1871 + len(nile_data)), nile_data)\n",
    "ax.grid()\n",
    "ax.set_title('Nile Data')"
   ]
  },
  {
   "cell_type": "code",
   "execution_count": 3,
   "id": "6956d781",
   "metadata": {},
   "outputs": [
    {
     "data": {
      "text/plain": [
       "tensor([[-1.6376,  0.7559],\n",
       "        [ 0.0573,  0.5883]], grad_fn=<InverseBackward0>)"
      ]
     },
     "execution_count": 3,
     "metadata": {},
     "output_type": "execute_result"
    }
   ],
   "source": [
    "dtype = torch.FloatTensor\n",
    "\n",
    "state_dim = 2\n",
    "n = 100\n",
    "\n",
    "alpha = Variable(torch.randn(state_dim, n).type(dtype), requires_grad=False)\n",
    "T = Variable(torch.randn(state_dim, state_dim).type(dtype), requires_grad=True)\n",
    "\n",
    "# no models w/ parameters in Z for now\n",
    "Z = Variable(torch.randn(1, state_dim).type(dtype), requires_grad=True)\n",
    "\n",
    "T.mm(alpha)\n",
    "\n",
    "torch.inverse(T)"
   ]
  },
  {
   "cell_type": "code",
   "execution_count": 4,
   "id": "fd26cd33",
   "metadata": {},
   "outputs": [],
   "source": [
    "def _mm3(M1: torch.tensor, M2: torch.tensor, M3: torch.tensor):\n",
    "    \"\"\"\n",
    "    compute matrix product of 3 matrices\n",
    "    \"\"\"\n",
    "    return torch.mm(torch.mm(M1, M2), M3)"
   ]
  },
  {
   "cell_type": "code",
   "execution_count": 5,
   "id": "e6e6f243",
   "metadata": {},
   "outputs": [],
   "source": [
    "def _bmm3(M1: torch.tensor, M2: torch.tensor, M3: torch.tensor):\n",
    "    \"\"\"\n",
    "    compute batch matrix product of 3 matrices\n",
    "    \"\"\"\n",
    "    return torch.bmm(torch.bmm(M1, M2), M3)"
   ]
  },
  {
   "cell_type": "code",
   "execution_count": 6,
   "id": "4ef335aa",
   "metadata": {},
   "outputs": [],
   "source": [
    "def _initiate_variables(p: int, s: int, n: int):\n",
    "    return torch.zeros(p, 1, n), torch.zeros(p, 1, n), torch.zeros(p, p, n), torch.zeros(p, p, n), torch.zeros(s, 1, n), torch.zeros(s, s, n), torch.zeros(p, s, n), torch.zeros(p, s, n)"
   ]
  },
  {
   "cell_type": "code",
   "execution_count": 7,
   "id": "35079136",
   "metadata": {},
   "outputs": [],
   "source": [
    "# Will be forward method\n",
    "\n",
    "def _kalman_step(T, Z, R, Q, H, a, P, y):\n",
    "    \"\"\"\n",
    "    perform 1 step of the kalman filter\n",
    "    \"\"\"\n",
    "    \n",
    "    # prediction error: v\n",
    "    v = y - torch.mm(Z, a)\n",
    "    \n",
    "    # prediction error variance: F\n",
    "    F = _mm3(Z, P, Z.t()) + H\n",
    "    \n",
    "    # incast-kalman gain: M\n",
    "    M = _mm3(P, Z.t(), torch.inverse(F)) \n",
    "    \n",
    "    # kalman gain: K\n",
    "    K = torch.mm(T, M)\n",
    "    \n",
    "    # incasted updates\n",
    "    att = a + torch.mm(M, v)\n",
    "    Ptt = P - _mm3(M, F, M.t())\n",
    "    \n",
    "    a_next = torch.mm(T, att)\n",
    "    P_next = _mm3(T, Ptt, T.t()) + _mm3(R, Q, R.t())\n",
    "    \n",
    "    return a_next, P_next, att, Ptt, M, K, F, v"
   ]
  },
  {
   "cell_type": "code",
   "execution_count": 8,
   "id": "dfdbe724",
   "metadata": {},
   "outputs": [],
   "source": [
    "def kalman_filter(*args, diffuse=False):\n",
    "    \"\"\"\n",
    "    perform all the steps of the Kalman filter\n",
    "    \"\"\"\n",
    "    T, Z, R, Q, H, y = args\n",
    "    \n",
    "    # number of observations\n",
    "    n = 100\n",
    "    \n",
    "    # dimension of state vector\n",
    "    p = int(T.shape[0])\n",
    "    \n",
    "    # dimension of observation vector\n",
    "    s = int(y.shape[0])\n",
    "    \n",
    "    # initiate filters (a, att), filter variances (P, Ptt), errors (v), error variances (F), and Kalman gains (K, M)\n",
    "    a, att, P, Ptt, v, F, K, M = _initiate_variables(p, s, n)\n",
    "    \n",
    "    # do a diffuse initialization\n",
    "    if diffuse:\n",
    "        a[:, :, 0] = 0\n",
    "        P[:, :, 0] = 1e7\n",
    "\n",
    "    # iterate through time\n",
    "    for t in range(1, n):\n",
    "        \n",
    "        # a[0] contains a1, y[0] contains y1\n",
    "        y_t = y[:, :, t-1]\n",
    "        a[:, :, t], P[:, :, t], att[:, :, t-1], Ptt[:, :, t-1], M[:, :, t-1], K[:, :, t-1], F[:, :, t-1], v[:, :, t-1] = _kalman_step(T, Z, R, Q, H, a[:, :, t-1], P[:, :, t-1], y_t)\n",
    "    \n",
    "    # do final incasting update\n",
    "    y_t = y[:, :, n-1]\n",
    "    _, _, att[:, :, n-1], Ptt[:, :, n-1], M[:, :, n-1], K[:, :, n-1], F[:, :, n-1], v[:, :, n-1] = _kalman_step(T, Z, R, Q, H, a[:, :, n-1], P[:, :, n-1], y_t)\n",
    "    \n",
    "    return a, att, P, Ptt, F, v, K, M "
   ]
  },
  {
   "cell_type": "code",
   "execution_count": 9,
   "id": "bd524506",
   "metadata": {},
   "outputs": [],
   "source": [
    "def kalman_smoother(*args):\n",
    "    \"\"\"\n",
    "    perform Kalman smoothing\n",
    "    \"\"\"\n",
    "    T, Z, R, Q, H, a, P, v, F, K = args\n",
    "    \n",
    "    # number of observations\n",
    "    n =  int(y.shape[2])\n",
    "    \n",
    "    # dimension of state vector\n",
    "    p = int(T.shape[0])\n",
    "    \n",
    "    # dimension of observation vector\n",
    "    s = int(y.shape[0])\n",
    "    \n",
    "    # instantiate a_hat\n",
    "    a_hat = torch.zeros_like(a)\n",
    "    \n",
    "    # can einsum this operation because it does not iterate through time\n",
    "    L = T - torch.einsum('ijk,ij->ijk', K, Z)\n",
    "    \n",
    "    # r[n+1] = r_n = 0\n",
    "    r = torch.zeros(p, 1, n + 1)\n",
    "    \n",
    "    # a[0] contains a_1, y[0] contains y_1\n",
    "    \n",
    "    # from 99...0\n",
    "    for t in range(n-1, -1, -1):\n",
    "        \n",
    "        r[:, :, t] = _mm3(Z.t(), torch.inverse(F[:, :, t]), v[:, :, t]) + torch.mm(L[:, :, t], r[:, :, t+1])\n",
    "    \n",
    "        a_hat[:, :, t] = a[:, :, t] + torch.mm(P[:, :, t], r[:, :, t])\n",
    "        \n",
    "    return a_hat"
   ]
  },
  {
   "cell_type": "code",
   "execution_count": 59,
   "id": "3ef8d900",
   "metadata": {},
   "outputs": [],
   "source": [
    "def log_likelihood(*args):\n",
    "    \n",
    "    \n",
    "    T, Z, R, Q, H, y, diffuse = args\n",
    "    \n",
    "    # get means and variances\n",
    "    _, _, _, _, F, v, _, _  = kalman_filter(T, Z, R, Q, H, y, diffuse=diffuse)\n",
    "    \n",
    "    # number of observations\n",
    "    n =  int(y.shape[2])\n",
    "    \n",
    "    # dimension of state vector\n",
    "    p = int(T.shape[0])\n",
    "\n",
    "    # dimension of observation vector\n",
    "    s = int(y.shape[0])\n",
    "    \n",
    "    # get elementwise log determinants log|F|\n",
    "    F_logdets = torch.logdet(F.permute(2, 0, 1))\n",
    "    \n",
    "    # get elementwise v'F^(-1)v, then convert shape from [100, 1, 1] -> [100]\n",
    "    vFv = torch.squeeze(_bmm3(v.permute(2, 1, 0), torch.inverse(F.permute(2, 0, 1)), v.permute(2, 0, 1)))\n",
    "    \n",
    "    # constant value \n",
    "    const = s * np.log(2 * np.pi) * torch.ones_like(vFv)\n",
    "    \n",
    "    # compute log-likelihood\n",
    "    llik = -(1/2) * torch.sum(const + vFv + F_logdets) \n",
    "    \n",
    "    return llik"
   ]
  },
  {
   "cell_type": "code",
   "execution_count": 60,
   "id": "d25cdac1",
   "metadata": {},
   "outputs": [
    {
     "name": "stdout",
     "output_type": "stream",
     "text": [
      "torch.Size([1, 1])\n",
      "torch.Size([1, 1, 100])\n",
      "<class 'torch.Tensor'>\n"
     ]
    },
    {
     "data": {
      "text/plain": [
       "tensor([[[0.9985, 0.5228, 0.3826, 0.3242, 0.2964, 0.2823, 0.2750, 0.2712,\n",
       "          0.2691, 0.2680, 0.2674, 0.2671, 0.2669, 0.2668, 0.2668, 0.2668,\n",
       "          0.2668, 0.2667, 0.2667, 0.2667, 0.2667, 0.2667, 0.2667, 0.2667,\n",
       "          0.2667, 0.2667, 0.2667, 0.2667, 0.2667, 0.2667, 0.2667, 0.2667,\n",
       "          0.2667, 0.2667, 0.2667, 0.2667, 0.2667, 0.2667, 0.2667, 0.2667,\n",
       "          0.2667, 0.2667, 0.2667, 0.2667, 0.2667, 0.2667, 0.2667, 0.2667,\n",
       "          0.2667, 0.2667, 0.2667, 0.2667, 0.2667, 0.2667, 0.2667, 0.2667,\n",
       "          0.2667, 0.2667, 0.2667, 0.2667, 0.2667, 0.2667, 0.2667, 0.2667,\n",
       "          0.2667, 0.2667, 0.2667, 0.2667, 0.2667, 0.2667, 0.2667, 0.2667,\n",
       "          0.2667, 0.2667, 0.2667, 0.2667, 0.2667, 0.2667, 0.2667, 0.2667,\n",
       "          0.2667, 0.2667, 0.2667, 0.2667, 0.2667, 0.2667, 0.2667, 0.2667,\n",
       "          0.2667, 0.2667, 0.2667, 0.2667, 0.2667, 0.2667, 0.2667, 0.2667,\n",
       "          0.2667, 0.2667, 0.2667, 0.2667]]])"
      ]
     },
     "execution_count": 60,
     "metadata": {},
     "output_type": "execute_result"
    }
   ],
   "source": [
    "### Want all tensors to be of shape [dimension, 1/dimension ,n]\n",
    "\n",
    "# Declare State Matrices Local Level Model -> use [[]] for extra dimension\n",
    "T = torch.Tensor([[1]]).type(dtype)\n",
    "Z = torch.Tensor([[1]]).type(dtype)\n",
    "R = torch.Tensor([[1]]).type(dtype)\n",
    "Q = torch.Tensor([[1465.989691256304]]).type(dtype)\n",
    "H = torch.Tensor([[15109]]).type(dtype)\n",
    "\n",
    "# load data, shape [s, n]\n",
    "nile_data = pd.read_csv(nile_path).values\n",
    "y = torch.Tensor(nile_data).type(dtype).t()\n",
    "\n",
    "# get data into shape [s, 1, n]\n",
    "y = y.expand(y.shape[0], 1, y.shape[1])\n",
    "\n",
    "a, att, P, Ptt, F, v, K, M  = kalman_filter(T, Z, R, Q, H, y, diffuse=True)\n",
    "a_hat = kalman_smoother(T, Z, R, Q, H, a, P, v, F, K)\n",
    "log_likelihood(T, Z, R, Q, H, y, True)\n",
    "\n",
    "print(T.shape)\n",
    "print(K.shape)\n",
    "print(type(torch.Tensor(nile_data)))\n",
    "\n",
    "torch.einsum('ijk,ij->ijk', K, Z)"
   ]
  },
  {
   "cell_type": "code",
   "execution_count": 14,
   "id": "d19f8963",
   "metadata": {},
   "outputs": [
    {
     "name": "stdout",
     "output_type": "stream",
     "text": [
      "tensor(42)\n",
      "42\n"
     ]
    },
    {
     "data": {
      "image/png": "[encoded data removed]",
      "text/plain": [
       "<Figure size 432x288 with 1 Axes>"
      ]
     },
     "metadata": {
      "needs_background": "light"
     },
     "output_type": "display_data"
    }
   ],
   "source": [
    "fig, ax = plt.subplots()\n",
    "ax.plot(range(1871, 1871 + len(nile_data)), nile_data)\n",
    "ax.plot(range(1871, 1871 + len(nile_data)), torch.squeeze(att).numpy())\n",
    "ax.plot(range(1871, 1871 + len(nile_data)), torch.squeeze(a_hat).numpy())\n",
    "ax.grid()\n",
    "ax.set_title('Nile Data')\n",
    "\n",
    "print(np.argmin(att))\n",
    "print(np.argmin(nile_data))"
   ]
  },
  {
   "cell_type": "code",
   "execution_count": 33,
   "id": "ab5a5708",
   "metadata": {},
   "outputs": [],
   "source": [
    "# number of observations\n",
    "n =  int(y.shape[2])\n",
    "\n",
    "# dimension of state vector\n",
    "p = int(T.shape[0])\n",
    "\n",
    "# dimension of observation vector\n",
    "s = int(y.shape[0])"
   ]
  },
  {
   "cell_type": "code",
   "execution_count": 28,
   "id": "1e7e7891",
   "metadata": {},
   "outputs": [
    {
     "data": {
      "text/plain": [
       "torch.Size([100])"
      ]
     },
     "execution_count": 28,
     "metadata": {},
     "output_type": "execute_result"
    }
   ],
   "source": [
    "F_logdets = torch.logdet(F.permute(2, 0, 1))\n",
    "F_logdets.shape"
   ]
  },
  {
   "cell_type": "code",
   "execution_count": 30,
   "id": "30ff32f5",
   "metadata": {},
   "outputs": [
    {
     "data": {
      "text/plain": [
       "torch.Size([100])"
      ]
     },
     "execution_count": 30,
     "metadata": {},
     "output_type": "execute_result"
    }
   ],
   "source": [
    "vFv = torch.squeeze(_bmm3(v.permute(2, 1, 0), torch.inverse(F.permute(2, 0, 1)), v.permute(2, 0, 1)))\n",
    "vFv.shape"
   ]
  },
  {
   "cell_type": "code",
   "execution_count": null,
   "id": "1c088852",
   "metadata": {},
   "outputs": [],
   "source": [
    "F_logdets + "
   ]
  },
  {
   "cell_type": "code",
   "execution_count": 27,
   "id": "80df4bd3",
   "metadata": {},
   "outputs": [
    {
     "data": {
      "text/plain": [
       "tensor(99.0975)"
      ]
     },
     "execution_count": 27,
     "metadata": {},
     "output_type": "execute_result"
    }
   ],
   "source": [
    "torch.sum(vFv)"
   ]
  },
  {
   "cell_type": "code",
   "execution_count": 36,
   "id": "32042a49",
   "metadata": {},
   "outputs": [
    {
     "data": {
      "text/plain": [
       "tensor(1283.1711)"
      ]
     },
     "execution_count": 36,
     "metadata": {},
     "output_type": "execute_result"
    }
   ],
   "source": [
    "torch.sum(vFv + F_logdets) + n * s * np.log(2*np.pi)"
   ]
  },
  {
   "cell_type": "code",
   "execution_count": 68,
   "id": "4cad6197",
   "metadata": {},
   "outputs": [
    {
     "name": "stdout",
     "output_type": "stream",
     "text": [
      "Test completed succesfully! \n"
     ]
    }
   ],
   "source": [
    "# loglik test #1\n",
    "y_test = torch.ones(2,1,100)\n",
    "F = torch.ones(2,2,100)\n",
    "for i in range(100):\n",
    "    F[:, :, i] = torch.eye(2,2)\n",
    "y_test = torch.ones(2,1,100)\n",
    "v_test = torch.ones(2,1,100)\n",
    "\n",
    "# number of observations\n",
    "n =  int(y_test.shape[2])\n",
    "\n",
    "# dimension of observation vector\n",
    "s = int(y_test.shape[0])\n",
    "\n",
    "# get elementwise log determinants log|F|\n",
    "F_logdets = torch.logdet(F.permute(2, 0, 1))\n",
    "#print(torch.sum(F_logdets))\n",
    "#print(F_logdets.shape)\n",
    "\n",
    "# get elementwise v'F^(-1)v, then convert shape from [100, 1, 1] -> [100]\n",
    "vFv = torch.squeeze(_bmm3(v_test.permute(2, 1, 0), torch.inverse(F.permute(2, 0, 1)), v_test.permute(2, 0, 1)))\n",
    "#print(torch.sum(vFv))\n",
    "\n",
    "# constant value \n",
    "const = s * np.log(2 * np.pi) * torch.ones_like(vFv)\n",
    "    \n",
    "# compute log-likelihood\n",
    "llik = -(1/2) * torch.sum(const + vFv + F_logdets) \n",
    "\n",
    "# test -> see notes for calculation\n",
    "assert round(llik.item(),0) == -284.0 \n",
    "\n",
    "print('Test completed succesfully! ')"
   ]
  },
  {
   "cell_type": "code",
   "execution_count": null,
   "id": "9a1661d8",
   "metadata": {},
   "outputs": [],
   "source": []
  }
 ],
 "metadata": {
  "kernelspec": {
   "display_name": "Python 3 (ipykernel)",
   "language": "python",
   "name": "python3"
  },
  "language_info": {
   "codemirror_mode": {
    "name": "ipython",
    "version": 3
   },
   "file_extension": ".py",
   "mimetype": "text/x-python",
   "name": "python",
   "nbconvert_exporter": "python",
   "pygments_lexer": "ipython3",
   "version": "3.8.8"
  }
 },
 "nbformat": 4,
 "nbformat_minor": 5
}
