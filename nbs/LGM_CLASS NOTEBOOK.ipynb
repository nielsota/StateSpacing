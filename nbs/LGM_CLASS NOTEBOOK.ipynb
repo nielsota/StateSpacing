{
 "cells": [
  {
   "cell_type": "code",
   "execution_count": 1,
   "id": "5bdf21d1",
   "metadata": {},
   "outputs": [
    {
     "data": {
      "text/plain": [
       "WindowsPath('C:/Users/NielsOta/Code/StateSpace/nbs')"
      ]
     },
     "execution_count": 1,
     "metadata": {},
     "output_type": "execute_result"
    }
   ],
   "source": [
    "import pathlib\n",
    "import sys\n",
    "\n",
    "sys.path.append(\"../\")\n",
    "\n",
    "local_path = pathlib.Path().resolve()\n",
    "local_path"
   ]
  },
  {
   "cell_type": "code",
   "execution_count": 2,
   "id": "00deaadd",
   "metadata": {},
   "outputs": [],
   "source": [
    "from statespace.utils import *"
   ]
  },
  {
   "cell_type": "code",
   "execution_count": 3,
   "id": "c070b676",
   "metadata": {},
   "outputs": [
    {
     "ename": "NameError",
     "evalue": "name '_mm' is not defined",
     "output_type": "error",
     "traceback": [
      "\u001b[1;31m---------------------------------------------------------------------------\u001b[0m",
      "\u001b[1;31mNameError\u001b[0m                                 Traceback (most recent call last)",
      "Input \u001b[1;32mIn [3]\u001b[0m, in \u001b[0;36m<module>\u001b[1;34m\u001b[0m\n\u001b[1;32m----> 1\u001b[0m \u001b[43m_mm\u001b[49m(A,B)\n",
      "\u001b[1;31mNameError\u001b[0m: name '_mm' is not defined"
     ]
    }
   ],
   "source": [
    "_mm(A,B)"
   ]
  },
  {
   "cell_type": "code",
   "execution_count": null,
   "id": "95848b20",
   "metadata": {},
   "outputs": [],
   "source": []
  }
 ],
 "metadata": {
  "kernelspec": {
   "display_name": "Python 3 (ipykernel)",
   "language": "python",
   "name": "python3"
  },
  "language_info": {
   "codemirror_mode": {
    "name": "ipython",
    "version": 3
   },
   "file_extension": ".py",
   "mimetype": "text/x-python",
   "name": "python",
   "nbconvert_exporter": "python",
   "pygments_lexer": "ipython3",
   "version": "3.8.8"
  }
 },
 "nbformat": 4,
 "nbformat_minor": 5
}
