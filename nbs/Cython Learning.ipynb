{
 "cells": [
  {
   "cell_type": "code",
   "execution_count": 3,
   "id": "fe3b1775",
   "metadata": {},
   "outputs": [],
   "source": [
    "speeduplog = {}\n",
    "def add_comparison(operation: str, base: float, new: float):\n",
    "    speeduplog[operation] = str(round(base / new, 2)) + 'x'\n",
    "    print(pd.DataFrame.from_dict(speeduplog, orient='index', columns=['speedup']))"
   ]
  },
  {
   "cell_type": "code",
   "execution_count": 1,
   "id": "4fb965e7",
   "metadata": {},
   "outputs": [
    {
     "name": "stdout",
     "output_type": "stream",
     "text": [
      "Requirement already satisfied: Cython in c:\\users\\nielsota\\code\\statespace\\venv\\lib\\site-packages (0.29.28)"
     ]
    },
    {
     "name": "stderr",
     "output_type": "stream",
     "text": [
      "WARNING: You are using pip version 20.2.3; however, version 22.0.4 is available.\n",
      "You should consider upgrading via the 'c:\\users\\nielsota\\code\\statespace\\venv\\scripts\\python.exe -m pip install --upgrade pip' command.\n"
     ]
    },
    {
     "name": "stdout",
     "output_type": "stream",
     "text": [
      "\n",
      "Requirement already satisfied: scipy in c:\\users\\nielsota\\code\\statespace\\venv\\lib\\site-packages (1.8.0)"
     ]
    },
    {
     "name": "stderr",
     "output_type": "stream",
     "text": [
      "WARNING: You are using pip version 20.2.3; however, version 22.0.4 is available.\n",
      "You should consider upgrading via the 'c:\\users\\nielsota\\code\\statespace\\venv\\scripts\\python.exe -m pip install --upgrade pip' command.\n"
     ]
    },
    {
     "name": "stdout",
     "output_type": "stream",
     "text": [
      "\n",
      "Requirement already satisfied: numpy<1.25.0,>=1.17.3 in c:\\users\\nielsota\\code\\statespace\\venv\\lib\\site-packages (from scipy) (1.22.2)\n"
     ]
    }
   ],
   "source": [
    "!pip install Cython\n",
    "!pip install scipy"
   ]
  },
  {
   "cell_type": "code",
   "execution_count": 2,
   "id": "b75b5c2e",
   "metadata": {},
   "outputs": [],
   "source": [
    "import pandas as pd\n",
    "import numpy as np"
   ]
  },
  {
   "cell_type": "code",
   "execution_count": 4,
   "id": "f6cf0797",
   "metadata": {},
   "outputs": [],
   "source": [
    "%load_ext cython"
   ]
  },
  {
   "cell_type": "code",
   "execution_count": 5,
   "id": "85b6295b",
   "metadata": {},
   "outputs": [],
   "source": [
    "%reload_ext cython"
   ]
  },
  {
   "cell_type": "code",
   "execution_count": 6,
   "id": "3df66c39",
   "metadata": {},
   "outputs": [],
   "source": [
    "import Cython\n",
    "import cython\n",
    "import scipy"
   ]
  },
  {
   "cell_type": "code",
   "execution_count": 7,
   "id": "87e93751",
   "metadata": {},
   "outputs": [
    {
     "data": {
      "text/plain": [
       "'1.8.0'"
      ]
     },
     "execution_count": 7,
     "metadata": {},
     "output_type": "execute_result"
    }
   ],
   "source": [
    "scipy.__version__"
   ]
  },
  {
   "cell_type": "code",
   "execution_count": 8,
   "id": "8fc0addb",
   "metadata": {},
   "outputs": [
    {
     "data": {
      "text/plain": [
       "'0.29.28'"
      ]
     },
     "execution_count": 8,
     "metadata": {},
     "output_type": "execute_result"
    }
   ],
   "source": [
    "Cython.__version__"
   ]
  },
  {
   "cell_type": "code",
   "execution_count": 9,
   "id": "d09e736b",
   "metadata": {},
   "outputs": [],
   "source": [
    "def fib(n):\n",
    "    \"\"\"Print the Fibonacci series up to n.\"\"\"\n",
    "    a, b = 0, 1\n",
    "    while b < n:\n",
    "        a, b = b, a + b\n",
    "    return a"
   ]
  },
  {
   "cell_type": "code",
   "execution_count": 10,
   "id": "27c444f3",
   "metadata": {},
   "outputs": [
    {
     "name": "stdout",
     "output_type": "stream",
     "text": [
      "3.03 µs ± 481 ns per loop (mean ± std. dev. of 7 runs, 100,000 loops each)\n"
     ]
    }
   ],
   "source": [
    "%timeit fib(1e8)"
   ]
  },
  {
   "cell_type": "code",
   "execution_count": 11,
   "id": "9aa54dfd",
   "metadata": {},
   "outputs": [],
   "source": [
    "%%cython\n",
    "def cfib(int n):\n",
    "    \"\"\"Print the Fibonacci series up to n.\"\"\"\n",
    "    cdef int a = 1\n",
    "    cdef int b = 1\n",
    "    while b < n:\n",
    "        a, b = b, a + b\n",
    "    return a"
   ]
  },
  {
   "cell_type": "code",
   "execution_count": 12,
   "id": "d2d9eb60",
   "metadata": {},
   "outputs": [
    {
     "name": "stdout",
     "output_type": "stream",
     "text": [
      "125 ns ± 6.88 ns per loop (mean ± std. dev. of 7 runs, 10,000,000 loops each)\n"
     ]
    }
   ],
   "source": [
    "%timeit cfib(1e8)"
   ]
  },
  {
   "cell_type": "markdown",
   "id": "415ab3ff",
   "metadata": {},
   "source": [
    "# $ABC^T$"
   ]
  },
  {
   "cell_type": "code",
   "execution_count": null,
   "id": "12097b0f",
   "metadata": {},
   "outputs": [],
   "source": [
    "%%cython\n",
    "\n",
    "cimport numpy as np\n",
    "import numpy as np\n",
    "import cython\n",
    "from scipy.linalg.cython_blas cimport dgemm\n",
    "\n",
    "@cython.boundscheck(False)\n",
    "@cython.wraparound(False)\n",
    "cpdef double cmm(double[::1, :] M1, double[::1, :] M2, double[::1, :] M3) nogil:\n",
    "    # M3 is where output is stored\n",
    "   \n",
    "    cdef int M = M1.shape[0]\n",
    "    cdef int K = M1.shape[1]\n",
    "    cdef int N = M2.shape[1]\n",
    "    \n",
    "    with gil:\n",
    "        if K != M2.shape[0]:\n",
    "            raise ValueError('dimension mismatch')\n",
    "    \n",
    "    cdef double alpha = 1.0\n",
    "    cdef double beta = 0.0\n",
    "    \n",
    "    # Q: LDA, how many elements do you need to jump over to go from A[i,j] -> A[i, j+1] if A column major\n",
    "    # A: Exactly the number of rows in A\n",
    "    \n",
    "    dgemm('N', 'N', &M, &N, &K, &alpha, &M1[0,0], &M,\n",
    "                                        &M2[0,0], &K, &beta,\n",
    "                                        &M3[0,0], &M,)\n",
    "    \n",
    "    return 0\n",
    "\n",
    "@cython.boundscheck(False)\n",
    "@cython.wraparound(False)\n",
    "cpdef double cmm_transpose(double[::1, :] M1, double[::1, :] M2, double[::1, :] M3) nogil:\n",
    "    \n",
    "   \n",
    "    cdef int M = M1.shape[0]\n",
    "    cdef int K = M1.shape[1]\n",
    "    cdef int N = M2.shape[1]\n",
    "    \n",
    "    with gil:\n",
    "        if K != M2.shape[0]:\n",
    "            raise ValueError('dimension mismatch')\n",
    "    \n",
    "    cdef double alpha = 1.0\n",
    "    cdef double beta = 0.0\n",
    "    \n",
    "    # Q: LDA, how many elements do you need to jump over to go from A[i,j] -> A[i, j+1] if A column major\n",
    "    # A: Exactly the number of rows in A\n",
    "    \n",
    "    dgemm('N', 'T', &M, &N, &K, &alpha, &M1[0,0], &M,\n",
    "                                        &M2[0,0], &N, &beta,\n",
    "                                        &M3[0,0], &M,)\n",
    "    \n",
    "    return 0\n",
    "\n",
    "@cython.boundscheck(False)\n",
    "@cython.wraparound(False)\n",
    "cpdef cmm3(double[::1, :] A, double[::1, :] B, double[::1, :] C, double[::1, :] AB, double[::1, :] ABC):\n",
    "    \"\"\"\n",
    "    compute matrix product of A, B and C' -> ABC' \n",
    "    \"\"\"\n",
    "    \n",
    "    cmm(A, B, AB)   # result stored in out = 1*AB + 0*out = AB\n",
    "    cmm(AB, C, ABC) # result stored in out = 1*ABC^T + 0*(AB)\n",
    "    \n",
    "    return 0\n",
    "\n",
    "@cython.boundscheck(False)\n",
    "@cython.wraparound(False)\n",
    "def loop_cmm3(int T, double[::1, :] A, double[::1, :] B, double[::1, :] C, double[::1, :] AB, double[::1, :] ABC):\n",
    "    \n",
    "    cdef size_t i\n",
    "        \n",
    "    for i in range(T):\n",
    "        #C = np.empty((10, 10), dtype=np.float64, order='F')\n",
    "        cmm3(A, B, C, AB, ABC)\n",
    "    \n",
    "    return C"
   ]
  },
  {
   "cell_type": "code",
   "execution_count": null,
   "id": "b994bdb5",
   "metadata": {},
   "outputs": [],
   "source": [
    "A = np.full((10, 10), [1, 1, 1, 1, 1, 0, 0, 0, 0, 0], dtype=np.float64, order='F')\n",
    "B = np.full((10, 10), [1, 1, 1, 1, 1, 0, 0, 0, 0, 0], dtype=np.float64, order='F')\n",
    "C = np.full((10, 10), [1, 1, 1, 1, 1, 0, 0, 0, 0, 0], dtype=np.float64, order='F')\n",
    "out = np.empty((10, 10), dtype=np.float64, order='F')"
   ]
  },
  {
   "cell_type": "code",
   "execution_count": null,
   "id": "e4c3abe0",
   "metadata": {},
   "outputs": [],
   "source": [
    "T = np.eye(10, dtype=np.float64, order='F') * 2\n",
    "P = np.eye(10, dtype=np.float64, order='F') * 2\n",
    "T_t = np.eye(10, dtype=np.float64, order='F')\n",
    "TP = np.empty((10, 10), dtype=np.float64, order='F')\n",
    "TPT_t = np.empty((10, 10), dtype=np.float64, order='F')"
   ]
  },
  {
   "cell_type": "code",
   "execution_count": null,
   "id": "14a411a8",
   "metadata": {},
   "outputs": [],
   "source": [
    "%timeit loop_cmm3(10000, T, P, T_t, TP, TPT_t)"
   ]
  },
  {
   "cell_type": "code",
   "execution_count": null,
   "id": "dbc6347a",
   "metadata": {},
   "outputs": [],
   "source": [
    "%timeit loop_mm3(m1_test, m2_test, m3_test, 10000)"
   ]
  },
  {
   "cell_type": "code",
   "execution_count": null,
   "id": "209217de",
   "metadata": {},
   "outputs": [],
   "source": [
    "add_comparison('MM3 multiplication (ABC\\')', 42.4, 8.02)"
   ]
  },
  {
   "cell_type": "markdown",
   "id": "1bbd3691",
   "metadata": {},
   "source": [
    "# Start of custom Kalman Implementation"
   ]
  },
  {
   "cell_type": "markdown",
   "id": "c1fc1569",
   "metadata": {},
   "source": [
    "## required \n",
    "\n",
    "- $v= y-Za_t$: so subtraction and dot product\n",
    "\n",
    "- $F_t = ZP_tZ' + H$: so vector matrix vector and addition\n",
    "\n",
    "- $M = P_tZ'F_t$: matrix * vector * number\n",
    "\n",
    "- $K_t = TM_t$: matrix vector\n",
    "- $ a_{t+1} = Ta_t + Kv $: matrix vector + vector number\n",
    "- $ P_{t+1} = TP_tT' + RQR' - KF_tK'$: matrix3, scaled outer product"
   ]
  },
  {
   "cell_type": "markdown",
   "id": "a557ee2b",
   "metadata": {},
   "source": [
    "### dot product"
   ]
  },
  {
   "cell_type": "code",
   "execution_count": 55,
   "id": "3bd0b066",
   "metadata": {},
   "outputs": [],
   "source": [
    "%%cython\n",
    "\n",
    "cimport numpy as np\n",
    "import numpy as np\n",
    "import cython\n",
    "from scipy.linalg.cython_blas cimport dgemm, ddot\n",
    "from libcpp cimport bool\n",
    "\n",
    "@cython.boundscheck(False)\n",
    "@cython.wraparound(False)\n",
    "cpdef double cddot(int N, double[::1] x, int incX, double[::1] y, int incY) nogil:\n",
    "    \"\"\"\n",
    "    \n",
    "    custom dot product\n",
    "        \n",
    "        arguments\n",
    "            n: length of the vectors x and y\n",
    "        \n",
    "        returns: type double\n",
    "        \n",
    "    \"\"\"\n",
    "    return ddot(&N, &x[0], &incX, &y[0], &incY)\n",
    "\n",
    "@cython.boundscheck(False)\n",
    "@cython.wraparound(False)\n",
    "cpdef double c_v(double[::1] Z, double[::1, :] a, double[::1, :] y, double[::1, :] v, int incX, double[::1] y, int incY) nogil:\n",
    "    \"\"\"\n",
    "    \n",
    "    custom dot product\n",
    "        \n",
    "        arguments\n",
    "            n: length of the vectors x and y\n",
    "        \n",
    "        returns: type double\n",
    "        \n",
    "    \"\"\"\n",
    "    return ddot(&N, &x[0], &incX, &y[0], &incY)"
   ]
  },
  {
   "cell_type": "markdown",
   "id": "5e76aead",
   "metadata": {},
   "source": [
    "## matrix vector"
   ]
  },
  {
   "cell_type": "code",
   "execution_count": 68,
   "id": "27d5d51f",
   "metadata": {},
   "outputs": [],
   "source": [
    "%%cython\n",
    "\n",
    "cimport numpy as np\n",
    "import numpy as np\n",
    "import cython\n",
    "from scipy.linalg.cython_blas cimport dgemv, ddot\n",
    "from libcpp cimport bool\n",
    "\n",
    "@cython.boundscheck(False)\n",
    "@cython.wraparound(False)\n",
    "cpdef void cdgemv(double[::1, :] A, double[::1] x, double[::1] y, int incX=1, int incY=1, double alpha=1.0, double beta=0.0) nogil:\n",
    "    \"\"\"\n",
    "    \n",
    "    custom matrix vector alpha * Ax + beta y\n",
    "    \n",
    "        output: stored in y\n",
    "        \n",
    "    \"\"\"\n",
    "    \n",
    "    cdef int M = A.shape[0]\n",
    "    cdef int N = A.shape[1]\n",
    "    \n",
    "    # how many bits of memory are between A[i, j] and A[i, j + 1] -> the number of rows since A is fortran contigious\n",
    "    cdef int LDA = M\n",
    "    \n",
    "    \n",
    "    dgemv('N', &M, &N, &alpha, &A[0, 0], &LDA, &x[0], &incX, &beta, &y[0], &incY)\n",
    "    \n",
    "@cython.boundscheck(False)\n",
    "@cython.wraparound(False)\n",
    "cpdef double c_xAx(double[::1, :] A, double[::1] x, double[::1] Ax, double[::1] xAx, int incX=1, int inc_Ax=1, double alpha=1.0, double beta=0.0) nogil:\n",
    "    \"\"\"\n",
    "    \n",
    "    custom matrix vector x'Ax\n",
    "    \n",
    "        output: xAx\n",
    "        \n",
    "        returns: type double (can do arithmetic in C)\n",
    "        \n",
    "    \"\"\"\n",
    "    \n",
    "    cdef int M = A.shape[0]\n",
    "    cdef int N = A.shape[1]\n",
    "    \n",
    "    # how many bits of memory are between A[i, j] and A[i, j + 1] -> the number of rows since A is fortran contigious\n",
    "    cdef int LDA = M\n",
    "    \n",
    "    \n",
    "    dgemv('N', &M, &N, &alpha, &A[0, 0], &LDA, &x[0], &incX, &beta, &Ax[0], &inc_Ax)\n",
    "    return ddot(&M, &x[0], &incX, &Ax[0], &inc_Ax)\n"
   ]
  },
  {
   "cell_type": "markdown",
   "id": "193b9522",
   "metadata": {},
   "source": [
    "### matrix multiplication"
   ]
  },
  {
   "cell_type": "code",
   "execution_count": null,
   "id": "5d8a9fef",
   "metadata": {},
   "outputs": [],
   "source": [
    "%%cython\n",
    "\n",
    "cimport numpy as np\n",
    "import numpy as np\n",
    "import cython\n",
    "from scipy.linalg.cython_blas cimport dgemm\n",
    "\n",
    "@cython.boundscheck(False)\n",
    "@cython.wraparound(False)\n",
    "cpdef double cmm(double[::1, :] M1, double[::1, :] M2, double[::1, :] M3) nogil:\n",
    "    \n",
    "   \n",
    "    cdef int M = M1.shape[0]\n",
    "    cdef int K = M1.shape[1]\n",
    "    cdef int N = M2.shape[1]\n",
    "    \n",
    "    with gil:\n",
    "        if K != M2.shape[0]:\n",
    "            raise ValueError('dimension mismatch')\n",
    "    \n",
    "    cdef double alpha = 1.0\n",
    "    cdef double beta = 0.0\n",
    "    \n",
    "    # Q: LDA, how many elements do you need to jump over to go from A[i,j] -> A[i, j+1] if A column major\n",
    "    # A: Exactly the number of rows in A\n",
    "    \n",
    "    dgemm('N', 'N', &M, &N, &K, &alpha, &M1[0,0], &M,\n",
    "                                             &M2[0,0], &K, &beta,\n",
    "                                             &M3[0,0], &M,)\n",
    "    \n",
    "    return 0\n"
   ]
  },
  {
   "cell_type": "markdown",
   "id": "f072fa2b",
   "metadata": {},
   "source": [
    "### matrix multiplication (transpose)"
   ]
  },
  {
   "cell_type": "code",
   "execution_count": 27,
   "id": "2a869b82",
   "metadata": {},
   "outputs": [],
   "source": [
    "%%cython\n",
    "\n",
    "cimport numpy as np\n",
    "import numpy as np\n",
    "import cython\n",
    "from scipy.linalg.cython_blas cimport dgemm\n",
    "\n",
    "@cython.boundscheck(False)\n",
    "@cython.wraparound(False)\n",
    "cpdef double cmm_transpose(double[::1, :] M1, double[::1, :] M2, double[::1, :] M3) nogil:\n",
    "    \"\"\"\n",
    "    ABC'\n",
    "    \"\"\"\n",
    "    \n",
    "   \n",
    "    cdef int M = M1.shape[0]\n",
    "    cdef int K = M1.shape[1]\n",
    "    cdef int N = M2.shape[1]\n",
    "    \n",
    "    with gil:\n",
    "        if K != M2.shape[0]:\n",
    "            raise ValueError('dimension mismatch')\n",
    "    \n",
    "    cdef double alpha = 1.0\n",
    "    cdef double beta = 0.0\n",
    "    \n",
    "    # Q: LDA, how many elements do you need to jump over to go from A[i,j] -> A[i, j+1] if A column major\n",
    "    # A: Exactly the number of rows in A\n",
    "    \n",
    "    dgemm('N', 'T', &M, &N, &K, &alpha, &M1[0,0], &M,\n",
    "                                        &M2[0,0], &N, &beta,\n",
    "                                        &M3[0,0], &M,)\n",
    "    \n",
    "    return 0"
   ]
  },
  {
   "cell_type": "markdown",
   "id": "bd673929",
   "metadata": {},
   "source": [
    "# tests"
   ]
  },
  {
   "cell_type": "markdown",
   "id": "b8b44b11",
   "metadata": {},
   "source": [
    "### dot product test"
   ]
  },
  {
   "cell_type": "code",
   "execution_count": 59,
   "id": "13025f62",
   "metadata": {},
   "outputs": [],
   "source": [
    "x = np.ones(1)\n",
    "y = np.ones(1)"
   ]
  },
  {
   "cell_type": "code",
   "execution_count": 60,
   "id": "2841c71d",
   "metadata": {},
   "outputs": [
    {
     "data": {
      "text/plain": [
       "(1,)"
      ]
     },
     "execution_count": 60,
     "metadata": {},
     "output_type": "execute_result"
    }
   ],
   "source": [
    "x.shape"
   ]
  },
  {
   "cell_type": "code",
   "execution_count": 61,
   "id": "0f31bfce",
   "metadata": {},
   "outputs": [
    {
     "data": {
      "text/plain": [
       "1.0"
      ]
     },
     "execution_count": 61,
     "metadata": {},
     "output_type": "execute_result"
    }
   ],
   "source": [
    "cddot(2, x , 1, y, 1)"
   ]
  },
  {
   "cell_type": "code",
   "execution_count": 16,
   "id": "095c4f87",
   "metadata": {},
   "outputs": [
    {
     "name": "stdout",
     "output_type": "stream",
     "text": [
      "1.7 µs ± 93.1 ns per loop (mean ± std. dev. of 7 runs, 1,000,000 loops each)\n"
     ]
    }
   ],
   "source": [
    "%timeit np.dot(x,y)"
   ]
  },
  {
   "cell_type": "markdown",
   "id": "c332e112",
   "metadata": {},
   "source": [
    "### matrix matrix test"
   ]
  },
  {
   "cell_type": "code",
   "execution_count": 26,
   "id": "d8988c1b",
   "metadata": {},
   "outputs": [
    {
     "data": {
      "text/plain": [
       "array([[5., 5., 5., 5., 5., 0., 0., 0., 0., 0.],\n",
       "       [5., 5., 5., 5., 5., 0., 0., 0., 0., 0.],\n",
       "       [5., 5., 5., 5., 5., 0., 0., 0., 0., 0.],\n",
       "       [5., 5., 5., 5., 5., 0., 0., 0., 0., 0.],\n",
       "       [5., 5., 5., 5., 5., 0., 0., 0., 0., 0.],\n",
       "       [5., 5., 5., 5., 5., 0., 0., 0., 0., 0.],\n",
       "       [5., 5., 5., 5., 5., 0., 0., 0., 0., 0.],\n",
       "       [5., 5., 5., 5., 5., 0., 0., 0., 0., 0.],\n",
       "       [5., 5., 5., 5., 5., 0., 0., 0., 0., 0.],\n",
       "       [5., 5., 5., 5., 5., 0., 0., 0., 0., 0.]])"
      ]
     },
     "execution_count": 26,
     "metadata": {},
     "output_type": "execute_result"
    }
   ],
   "source": [
    "# result should be all 5's in left hand side, zeros on right hand side\n",
    "\n",
    "A = np.full((10, 10), [1, 1, 1, 1, 1, 0, 0, 0, 0, 0], dtype=np.float64, order='F')\n",
    "B = np.full((10, 10), [1, 1, 1, 1, 1, 0, 0, 0, 0, 0], dtype=np.float64, order='F')\n",
    "AB = np.full((10, 10), [1, 1, 1, 1, 1, 0, 0, 0, 0, 0], dtype=np.float64, order='F')\n",
    "\n",
    "#output stored in AB\n",
    "cmm(A, B, AB)\n",
    "C"
   ]
  },
  {
   "cell_type": "markdown",
   "id": "0ec3306c",
   "metadata": {},
   "source": [
    "### matrix matrix transpose test"
   ]
  },
  {
   "cell_type": "code",
   "execution_count": 30,
   "id": "56ba3247",
   "metadata": {},
   "outputs": [
    {
     "data": {
      "text/plain": [
       "array([[5., 5., 5., 5., 5., 5., 5., 5., 5., 5.],\n",
       "       [5., 5., 5., 5., 5., 5., 5., 5., 5., 5.],\n",
       "       [5., 5., 5., 5., 5., 5., 5., 5., 5., 5.],\n",
       "       [5., 5., 5., 5., 5., 5., 5., 5., 5., 5.],\n",
       "       [5., 5., 5., 5., 5., 5., 5., 5., 5., 5.],\n",
       "       [5., 5., 5., 5., 5., 5., 5., 5., 5., 5.],\n",
       "       [5., 5., 5., 5., 5., 5., 5., 5., 5., 5.],\n",
       "       [5., 5., 5., 5., 5., 5., 5., 5., 5., 5.],\n",
       "       [5., 5., 5., 5., 5., 5., 5., 5., 5., 5.],\n",
       "       [5., 5., 5., 5., 5., 5., 5., 5., 5., 5.]])"
      ]
     },
     "execution_count": 30,
     "metadata": {},
     "output_type": "execute_result"
    }
   ],
   "source": [
    "# result should be all 5's \n",
    "\n",
    "A = np.full((10, 10), [1, 1, 1, 1, 1, 0, 0, 0, 0, 0], dtype=np.float64, order='F')\n",
    "B = np.full((10, 10), [1, 1, 1, 1, 1, 0, 0, 0, 0, 0], dtype=np.float64, order='F')\n",
    "AB_transpose = np.full((10, 10), [1, 1, 1, 1, 1, 0, 0, 0, 0, 0], dtype=np.float64, order='F')\n",
    "\n",
    "#output stored in AB\n",
    "cmm_transpose(A, B, AB_transpose)\n",
    "C"
   ]
  },
  {
   "cell_type": "markdown",
   "id": "d221936f",
   "metadata": {},
   "source": [
    "### matrix vector test"
   ]
  },
  {
   "cell_type": "code",
   "execution_count": 39,
   "id": "673382d0",
   "metadata": {},
   "outputs": [],
   "source": [
    "A = np.full((10, 10), [1, 1, 1, 1, 1, 0, 0, 0, 0, 0], dtype=np.float64, order='F')\n",
    "x = np.array([1, 1, 1, 1, 1, 0, 0, 0, 0, 0], dtype=np.float64, order='F')\n",
    "Ax = np.empty((10,), dtype=np.float64, order='F')"
   ]
  },
  {
   "cell_type": "code",
   "execution_count": 42,
   "id": "8c14e8ba",
   "metadata": {},
   "outputs": [],
   "source": [
    "cddot(A, x, Ax)"
   ]
  },
  {
   "cell_type": "code",
   "execution_count": 43,
   "id": "305ce9ec",
   "metadata": {},
   "outputs": [
    {
     "data": {
      "text/plain": [
       "array([5., 5., 5., 5., 5., 5., 5., 5., 5., 5.])"
      ]
     },
     "execution_count": 43,
     "metadata": {},
     "output_type": "execute_result"
    }
   ],
   "source": [
    "# should be all 5's\n",
    "Ax"
   ]
  },
  {
   "cell_type": "markdown",
   "id": "061008d5",
   "metadata": {},
   "source": [
    "### $x'Ax$ test"
   ]
  },
  {
   "cell_type": "code",
   "execution_count": 71,
   "id": "a3a90460",
   "metadata": {},
   "outputs": [],
   "source": [
    "P = np.full((10, 10), [1, 1, 1, 1, 1, 0, 0, 0, 0, 0], dtype=np.float64, order='F')\n",
    "Z = np.array([1, 1, 1, 1, 1, 0, 0, 0, 0, 0], dtype=np.float64, order='F')\n",
    "PZ = np.empty((10,), dtype=np.float64, order='F')\n",
    "ZPZ = np.empty((10,), dtype=np.float64, order='F')"
   ]
  },
  {
   "cell_type": "code",
   "execution_count": 72,
   "id": "6b96d54b",
   "metadata": {},
   "outputs": [
    {
     "data": {
      "text/plain": [
       "25.0"
      ]
     },
     "execution_count": 72,
     "metadata": {},
     "output_type": "execute_result"
    }
   ],
   "source": [
    "# should be 25\n",
    "c_xAx(P, Z, PZ, ZPZ)"
   ]
  },
  {
   "cell_type": "markdown",
   "id": "e7f08e78",
   "metadata": {},
   "source": [
    "### $v = y - Za$ test"
   ]
  },
  {
   "cell_type": "code",
   "execution_count": 75,
   "id": "09127ccf",
   "metadata": {},
   "outputs": [],
   "source": [
    "T = 100\n",
    "\n",
    "# Z: s x p\n",
    "Z = np.array([1, 1], dtype=np.float64, order='F')\n",
    "\n",
    "# a: p x T\n",
    "a = np.ones((2,T), dtype=np.float64, order='F')\n",
    "\n",
    "# y: s x T\n",
    "y = np.ones((1,T), dtype=np.float64, order='F')\n",
    "\n",
    "v = np.empty((1, T), dtype=np.float64, order='F')"
   ]
  },
  {
   "cell_type": "code",
   "execution_count": 79,
   "id": "610169c2",
   "metadata": {},
   "outputs": [],
   "source": []
  },
  {
   "cell_type": "code",
   "execution_count": null,
   "id": "b3a0f4e6",
   "metadata": {},
   "outputs": [],
   "source": []
  }
 ],
 "metadata": {
  "kernelspec": {
   "display_name": "Python 3 (ipykernel)",
   "language": "python",
   "name": "python3"
  },
  "language_info": {
   "codemirror_mode": {
    "name": "ipython",
    "version": 3
   },
   "file_extension": ".py",
   "mimetype": "text/x-python",
   "name": "python",
   "nbconvert_exporter": "python",
   "pygments_lexer": "ipython3",
   "version": "3.8.8"
  }
 },
 "nbformat": 4,
 "nbformat_minor": 5
}
