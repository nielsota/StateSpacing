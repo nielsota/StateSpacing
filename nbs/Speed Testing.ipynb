{
 "cells": [
  {
   "cell_type": "code",
   "execution_count": 1,
   "id": "8c2cb821",
   "metadata": {},
   "outputs": [],
   "source": [
    "import pathlib\n",
    "import sys\n",
    "\n",
    "sys.path.append(\"../\")\n",
    "\n",
    "local_path = pathlib.Path().resolve()\n",
    "\n",
    "from typing import List, Optional, Dict, Tuple\n",
    "from scipy.optimize import minimize\n",
    "from collections import deque\n",
    "\n",
    "import pandas as pd\n",
    "import numpy as np\n",
    "import matplotlib.pyplot as plt\n",
    "\n",
    "from utils import _initiate_variables, _map_vector_to_matrices, _get_nan_positions, _remove_nan_tensor, _remove_inf_tensor, _get_bounds, read_target_from_path\n",
    "from StateSpacingKalman import KalmanV1, KalmanV2, KalmanV3\n",
    "from StateSpacingProtocols import KalmanProtocol, MathProtocol\n",
    "from StateSpacingClasses import LinearGaussianModel_v2_numpy as LGM\n",
    "from StateSpacingClasses import LLM_v1_numpy as LLM"
   ]
  },
  {
   "cell_type": "markdown",
   "id": "83fa75e1",
   "metadata": {},
   "source": [
    "# Test different implementations of Kalman protocol implementations"
   ]
  },
  {
   "cell_type": "code",
   "execution_count": 2,
   "id": "70450666",
   "metadata": {},
   "outputs": [
    {
     "name": "stdout",
     "output_type": "stream",
     "text": [
      "<class 'StateSpacingMath.StateSpaceMathNumpyV1'>\n"
     ]
    }
   ],
   "source": [
    "KalmanV1 = KalmanV1()\n",
    "print(KalmanV1.ssmath)"
   ]
  },
  {
   "cell_type": "code",
   "execution_count": 3,
   "id": "9fe2d531",
   "metadata": {},
   "outputs": [
    {
     "name": "stdout",
     "output_type": "stream",
     "text": [
      "<class 'StateSpacingMath.StateSpaceMathNumpyV2'>\n"
     ]
    }
   ],
   "source": [
    "KalmanV2 = KalmanV2()\n",
    "print(KalmanV2.ssmath)"
   ]
  },
  {
   "cell_type": "code",
   "execution_count": 4,
   "id": "8f129520",
   "metadata": {},
   "outputs": [
    {
     "name": "stdout",
     "output_type": "stream",
     "text": [
      "<class 'StateSpacingMath.StateSpaceMathNumpyV3'>\n"
     ]
    }
   ],
   "source": [
    "KalmanV3 = KalmanV3()\n",
    "print(KalmanV3.ssmath)"
   ]
  },
  {
   "cell_type": "markdown",
   "id": "159a0c67",
   "metadata": {},
   "source": [
    "## Load data for testing "
   ]
  },
  {
   "cell_type": "code",
   "execution_count": 32,
   "id": "efdb13ec",
   "metadata": {},
   "outputs": [],
   "source": [
    "dtype=np.float64\n",
    "base_dir = pathlib.Path().resolve().parent\n",
    "data_dir = base_dir / 'data'\n",
    "llt_path = data_dir / 'llt.txt'\n",
    "\n",
    "# get data into shape [s, 1, n]\n",
    "y = read_target_from_path(llt_path, dtype)\n",
    "y[:, :, 60:80] = np.nan\n",
    "\n",
    "# Declare State Matrices Local linear Trend Model -> use [[]] for extra dimension\n",
    "T = np.array([[1, 1], [0, 1]]).astype(dtype)\n",
    "Z = np.array([[1, 0]]).astype(dtype)\n",
    "R = np.array([[1, 0], [0, 1]]).astype(dtype)\n",
    "Q = np.array([[1, 0], [0, 1]]).astype(dtype)\n",
    "H = np.array([[1]]).astype(dtype)\n",
    "diffuse = True\n",
    "\n",
    "a = np.array([[1], [0]]).astype(dtype)\n",
    "P = np.array([[5, 6], [2, 3]]).astype(dtype)\n",
    "\n",
    "n=100\n",
    "shapes = {'n': n, 'p': 2, 's': 1}\n",
    "\n",
    "T = np.repeat(T[:, :, None], n, axis=2)\n",
    "Z = np.repeat(Z[:, :, None], n, axis=2)\n",
    "R = np.repeat(R[:, :, None], n, axis=2)\n",
    "Q = np.repeat(Q[:, :, None], n, axis=2)\n",
    "H = np.repeat(H[:, :, None], n, axis=2)"
   ]
  },
  {
   "cell_type": "markdown",
   "id": "ea1608a8",
   "metadata": {},
   "source": [
    "## Kalman Filter Iteration"
   ]
  },
  {
   "cell_type": "code",
   "execution_count": 36,
   "id": "67650e97",
   "metadata": {},
   "outputs": [
    {
     "name": "stdout",
     "output_type": "stream",
     "text": [
      "45 µs ± 3.57 µs per loop (mean ± std. dev. of 7 runs, 10,000 loops each)\n"
     ]
    }
   ],
   "source": [
    "%timeit KalmanV1._kalman_step(T[:, :, 10], Z[:, :, 10], R[:, :, 10], Q[:, :, 10], H[:, :, 10], a, P, y[0, 0, 10])"
   ]
  },
  {
   "cell_type": "code",
   "execution_count": 37,
   "id": "fd054239",
   "metadata": {},
   "outputs": [
    {
     "name": "stdout",
     "output_type": "stream",
     "text": [
      "46.3 µs ± 3.01 µs per loop (mean ± std. dev. of 7 runs, 10,000 loops each)\n"
     ]
    }
   ],
   "source": [
    "%timeit KalmanV2._kalman_step(T[:, :, 10], Z[:, :, 10], R[:, :, 10], Q[:, :, 10], H[:, :, 10], a, P, y[0, 0, 10])"
   ]
  },
  {
   "cell_type": "code",
   "execution_count": 38,
   "id": "b044a13e",
   "metadata": {},
   "outputs": [
    {
     "name": "stdout",
     "output_type": "stream",
     "text": [
      "55 µs ± 4.39 µs per loop (mean ± std. dev. of 7 runs, 10,000 loops each)\n"
     ]
    }
   ],
   "source": [
    "%timeit KalmanV3._kalman_step(T[:, :, 10], Z[:, :, 10], R[:, :, 10], Q[:, :, 10], H[:, :, 10], a, P, y[0, 0, 10])"
   ]
  },
  {
   "cell_type": "markdown",
   "id": "796a637b",
   "metadata": {},
   "source": [
    "## Kalman Filter"
   ]
  },
  {
   "cell_type": "code",
   "execution_count": 39,
   "id": "dfbe89f5",
   "metadata": {},
   "outputs": [
    {
     "name": "stdout",
     "output_type": "stream",
     "text": [
      "5.17 ms ± 360 µs per loop (mean ± std. dev. of 7 runs, 100 loops each)\n"
     ]
    }
   ],
   "source": [
    "%timeit KalmanV1.kalman_filter(T, Z, R, Q, H, y, diffuse, shapes)"
   ]
  },
  {
   "cell_type": "code",
   "execution_count": 40,
   "id": "9e4d3f31",
   "metadata": {},
   "outputs": [
    {
     "name": "stdout",
     "output_type": "stream",
     "text": [
      "4.94 ms ± 328 µs per loop (mean ± std. dev. of 7 runs, 100 loops each)\n"
     ]
    }
   ],
   "source": [
    "%timeit KalmanV2.kalman_filter(T, Z, R, Q, H, y, diffuse, shapes)"
   ]
  },
  {
   "cell_type": "code",
   "execution_count": 41,
   "id": "2db75551",
   "metadata": {},
   "outputs": [
    {
     "name": "stdout",
     "output_type": "stream",
     "text": [
      "5.46 ms ± 116 µs per loop (mean ± std. dev. of 7 runs, 100 loops each)\n"
     ]
    }
   ],
   "source": [
    "%timeit KalmanV3.kalman_filter(T, Z, R, Q, H, y, diffuse, shapes)"
   ]
  },
  {
   "cell_type": "code",
   "execution_count": null,
   "id": "87d94ba6",
   "metadata": {},
   "outputs": [],
   "source": []
  }
 ],
 "metadata": {
  "kernelspec": {
   "display_name": "Python 3 (ipykernel)",
   "language": "python",
   "name": "python3"
  },
  "language_info": {
   "codemirror_mode": {
    "name": "ipython",
    "version": 3
   },
   "file_extension": ".py",
   "mimetype": "text/x-python",
   "name": "python",
   "nbconvert_exporter": "python",
   "pygments_lexer": "ipython3",
   "version": "3.8.8"
  }
 },
 "nbformat": 4,
 "nbformat_minor": 5
}
